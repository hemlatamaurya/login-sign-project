{
 "cells": [
  {
   "cell_type": "markdown",
   "id": "11cd566a",
   "metadata": {},
   "source": [
    "## Number System:\n",
    "- Decimal Number System (10): 0-9\n",
    "- Binary Number System    (2):   0, 1\n",
    "- Octal Number System      (8):   0-7\n",
    "- Hexadecimal Number System (16):  0-9, ABCDEF"
   ]
  },
  {
   "cell_type": "markdown",
   "id": "3ea4dcc2",
   "metadata": {},
   "source": [
    "Decimal Number System\n",
    "- 10 digits\n",
    "- 0, 1, 2, 3, 4, 5, 6, 7, 8, 9"
   ]
  },
  {
   "cell_type": "markdown",
   "id": "0b3dd63e",
   "metadata": {},
   "source": [
    "Binary Number System\n",
    "- 2 digits\n",
    "- 0 and 1"
   ]
  },
  {
   "cell_type": "code",
   "execution_count": null,
   "id": "4b0c6d71",
   "metadata": {},
   "outputs": [],
   "source": [
    "# 2^0 = 1\n",
    "# 2^1 = 2\n",
    "# 2^2 = 4\n",
    "# 2^3 = 8\n",
    "# 2^4 = 16\n",
    "# 2^5 = 32\n",
    "# 2^6 = 64\n",
    "# 2^7 = 128\n",
    "# 2^8 = 256\n",
    "# 2^9 = 512\n",
    "# 2^10= 1024\n",
    "# 2^11= 2048"
   ]
  },
  {
   "cell_type": "markdown",
   "id": "00f586bd",
   "metadata": {},
   "source": [
    "Octal Number System\n",
    "- 8 digits\n",
    "- 0, 1, 2, 3, 4, 5, 6, 7"
   ]
  },
  {
   "cell_type": "markdown",
   "id": "f8727407",
   "metadata": {},
   "source": [
    "#### Hexadecimal Number System\n",
    "- 16 digits\n",
    "- 0, 1, 2, 3, 4, 5, 6, 7, 8, 9, A, B, C, D, E, F"
   ]
  },
  {
   "cell_type": "markdown",
   "id": "6ff69adb",
   "metadata": {},
   "source": [
    "## ASCII\n",
    "American Standard Code for Information Interchange"
   ]
  },
  {
   "cell_type": "code",
   "execution_count": 1,
   "id": "6eeb8525",
   "metadata": {},
   "outputs": [
    {
     "data": {
      "text/plain": [
       "65"
      ]
     },
     "execution_count": 1,
     "metadata": {},
     "output_type": "execute_result"
    }
   ],
   "source": [
    "ord('A')   # Character to ASCII"
   ]
  },
  {
   "cell_type": "code",
   "execution_count": 2,
   "id": "cf228386",
   "metadata": {},
   "outputs": [
    {
     "data": {
      "text/plain": [
       "'A'"
      ]
     },
     "execution_count": 2,
     "metadata": {},
     "output_type": "execute_result"
    }
   ],
   "source": [
    "chr(65)    # ASCII to Character"
   ]
  },
  {
   "cell_type": "code",
   "execution_count": 3,
   "id": "a9dd936e",
   "metadata": {},
   "outputs": [
    {
     "data": {
      "text/plain": [
       "112"
      ]
     },
     "execution_count": 3,
     "metadata": {},
     "output_type": "execute_result"
    }
   ],
   "source": [
    "ord('p')"
   ]
  },
  {
   "cell_type": "markdown",
   "id": "77bee14a",
   "metadata": {},
   "source": [
    "## Memory Allocation\n",
    "- Static  (fixed)\n",
    "- Dynamic (changing)"
   ]
  },
  {
   "cell_type": "code",
   "execution_count": null,
   "id": "8f3b77a6",
   "metadata": {},
   "outputs": [],
   "source": [
    "# C language follows SMA\n",
    "int x;        # Allocating a memory and naming it x\n",
    "x = 12;\n",
    "\n",
    "char y;\n",
    "y = 'a'\n",
    "\n",
    "# Python language follows DMA\n",
    "x = 12\n",
    "y = 'a'"
   ]
  },
  {
   "cell_type": "markdown",
   "id": "ee32c05f",
   "metadata": {},
   "source": [
    "## IDE\n",
    "- IDE: Integrated Development Environment\n",
    "- IDE = Text/Code Editor + Compiler/Intepreter"
   ]
  },
  {
   "cell_type": "markdown",
   "id": "31836273",
   "metadata": {},
   "source": [
    "### IDE's in Python\n",
    "- IDLE\n",
    "- PyCharm\n",
    "- Visual Studio Code\n",
    "- Geany (Linux)\n",
    "- Spyder (Windows)\n",
    "- Atom"
   ]
  },
  {
   "cell_type": "markdown",
   "id": "bffcd337",
   "metadata": {},
   "source": [
    "Anaconda (https://www.anaconda.com/)\n",
    "- Software Bundle comprising of softwares specifically for DS, DA, ML\n",
    "- Jupyter Notebook - IDE"
   ]
  },
  {
   "cell_type": "code",
   "execution_count": null,
   "id": "7e9ea557",
   "metadata": {},
   "outputs": [],
   "source": [
    "# Alternative for Jupyter Notebook Google Colab"
   ]
  },
  {
   "cell_type": "code",
   "execution_count": 4,
   "id": "19660342",
   "metadata": {},
   "outputs": [
    {
     "name": "stdout",
     "output_type": "stream",
     "text": [
      "12\n"
     ]
    }
   ],
   "source": [
    "x = 12\n",
    "print(x)"
   ]
  },
  {
   "cell_type": "code",
   "execution_count": null,
   "id": "f8830dea",
   "metadata": {},
   "outputs": [],
   "source": []
  }
 ],
 "metadata": {
  "kernelspec": {
   "display_name": "Python 3 (ipykernel)",
   "language": "python",
   "name": "python3"
  },
  "language_info": {
   "codemirror_mode": {
    "name": "ipython",
    "version": 3
   },
   "file_extension": ".py",
   "mimetype": "text/x-python",
   "name": "python",
   "nbconvert_exporter": "python",
   "pygments_lexer": "ipython3",
   "version": "3.10.9"
  }
 },
 "nbformat": 4,
 "nbformat_minor": 5
}
